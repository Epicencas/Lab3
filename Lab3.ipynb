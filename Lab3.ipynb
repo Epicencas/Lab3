{
  "nbformat": 4,
  "nbformat_minor": 0,
  "metadata": {
    "colab": {
      "name": "Lab3.ipynb",
      "provenance": [],
      "collapsed_sections": [],
      "authorship_tag": "ABX9TyNlrItxzImeTJekpF3SEmDQ",
      "include_colab_link": true
    },
    "kernelspec": {
      "name": "python3",
      "display_name": "Python 3"
    },
    "language_info": {
      "name": "python"
    }
  },
  "cells": [
    {
      "cell_type": "markdown",
      "metadata": {
        "id": "view-in-github",
        "colab_type": "text"
      },
      "source": [
        "<a href=\"https://colab.research.google.com/github/Epicencas/Lab3/blob/main/Lab3.ipynb\" target=\"_parent\"><img src=\"https://colab.research.google.com/assets/colab-badge.svg\" alt=\"Open In Colab\"/></a>"
      ]
    },
    {
      "cell_type": "markdown",
      "source": [
        "# **Problema 1**\n",
        "Cree un procedimiento en Python dado un numero entero en decimal despliegue su representación en numero binario."
      ],
      "metadata": {
        "id": "k4xOGNDJWWYV"
      }
    },
    {
      "cell_type": "code",
      "execution_count": 1,
      "metadata": {
        "id": "pnzz0IumS2dU"
      },
      "outputs": [],
      "source": [
        "def dab(decimal):\n",
        "  bin = \"\"\n",
        "  #decimal = int(input(\"Ingrese un número: \" ))\n",
        "  #Si el número tiene como residuo 0 añade un 0, luego obtiene el cociente de dividirlo por 2\n",
        "  while (decimal > 0):\n",
        "    if (decimal % 2 == 0):\n",
        "      bin = bin + \"0\"\n",
        "      decimal = decimal // 2\n",
        "  #Si el número tiene residuo entonces añade 1, luego obtiene el cociente de dividirlo por 2\n",
        "    else:\n",
        "      bin = bin + \"1\"\n",
        "      decimal = decimal // 2\n",
        "  #Ordenena de forma inversa la cadena bin obtenida\n",
        "  reversed_string=''.join(reversed(bin))\n",
        "  print(reversed_string)"
      ]
    },
    {
      "cell_type": "code",
      "source": [
        "dab(1000000)"
      ],
      "metadata": {
        "colab": {
          "base_uri": "https://localhost:8080/"
        },
        "id": "qB0Sr3al02Ts",
        "outputId": "b54e514c-cab8-4139-f809-d1810c4955e8"
      },
      "execution_count": 5,
      "outputs": [
        {
          "output_type": "stream",
          "name": "stdout",
          "text": [
            "11110100001001000000\n"
          ]
        }
      ]
    },
    {
      "cell_type": "markdown",
      "source": [
        "# **Problema 2**\n",
        "Desarrolle en Python una funcion que devuelva verdadero si un numero entero que recibe como parametro es primo y devuelva falso en el caso contrario."
      ],
      "metadata": {
        "id": "9CBxsSk7WmKV"
      }
    },
    {
      "cell_type": "code",
      "source": [
        "def nump(Num):\n",
        "  #Num = int(input(\"Ingrese un número: \"))\n",
        "  if(Num <= 0):\n",
        "    print(\"Ingrese un número mayor que 0\")\n",
        "  else:\n",
        "    Num2 = Num\n",
        "  Lista1 = []\n",
        "  # Si el residuo es 0 entonces es un factor y debe añadirlo a la lista,\n",
        "  while (Num2 > 0):\n",
        "    Factor = Num // Num2\n",
        "    if(Num % Num2 == 0):\n",
        "      Lista1.append(Factor)\n",
        "      Num2 = Num2 - 1\n",
        "    else:\n",
        "      Num2 = Num2 - 1\n",
        "  #si la cantidad de factores es 2 entonces sí es primo\n",
        "  if(len(Lista1) == 2):\n",
        "    return True\n",
        "    #print(\"El número es Primo\")\n",
        "  else:\n",
        "    return False\n",
        "    #print(\"El número no es primo\")"
      ],
      "metadata": {
        "id": "63fodohVWth3"
      },
      "execution_count": 6,
      "outputs": []
    },
    {
      "cell_type": "code",
      "source": [
        "nump(153)"
      ],
      "metadata": {
        "colab": {
          "base_uri": "https://localhost:8080/"
        },
        "id": "aB7YVD4Uy_N1",
        "outputId": "7365afd2-7c01-4414-9adf-203a996b0ecc"
      },
      "execution_count": 13,
      "outputs": [
        {
          "output_type": "execute_result",
          "data": {
            "text/plain": [
              "False"
            ]
          },
          "metadata": {},
          "execution_count": 13
        }
      ]
    },
    {
      "cell_type": "markdown",
      "source": [
        "# **Problema 3**\n",
        "Haga un programa en Python que dada una lista de n numeros, calcule la desviacion estandar del conjunto de numeros, para este ejercicio no puede utilizar ninguna funcion que resuelva el problema."
      ],
      "metadata": {
        "id": "GlcCJE8ihQ8D"
      }
    },
    {
      "cell_type": "code",
      "source": [
        "List1 = [1, 2, 3, 4, 5, 6, 7, 8, 9, 10]\n",
        "length = len(List1)\n",
        "total = 0\n",
        "num = 0\n",
        "\n",
        "for i in range(0, length):\n",
        "    total += List1[i]\n",
        "promedio = total / length \n",
        "#Diferencias al cuadrado\n",
        "for i in range(0, length):\n",
        "    num += ((List1[i] - promedio)**2)\n",
        "#Formula de desviación estándar para poblaciones\n",
        "desv = (num / length)**(0.5)\n",
        "\n",
        "print(f\"La desviación estandar del conjunto de números es: {desv}\")\n"
      ],
      "metadata": {
        "colab": {
          "base_uri": "https://localhost:8080/"
        },
        "id": "1Ycnrdcohatk",
        "outputId": "c8122a64-801d-4c78-9297-8d0a5a2994b9"
      },
      "execution_count": null,
      "outputs": [
        {
          "output_type": "stream",
          "name": "stdout",
          "text": [
            "La desviación estandar del conjunto de números es: 27.304526915561905\n"
          ]
        }
      ]
    },
    {
      "cell_type": "markdown",
      "source": [
        "# **Problema 4**\n",
        "Desarrolle en Python una funcion que dado un arreglo se corra el algoritmo de ordenamiento burbuja y devuelva un nuevo arreglo ordenado. Posteriormente cree una funcion main para probar su funcion."
      ],
      "metadata": {
        "id": "4j-Y7yCQ8byw"
      }
    },
    {
      "cell_type": "code",
      "source": [
        "def bubblesort(lista):\n",
        "  largo = len(lista) -1\n",
        "  for i in range(0, largo):\n",
        "    for j in range(0, largo):\n",
        "      if lista[j] > lista[j + 1]:\n",
        "        v = lista[j]\n",
        "        lista[j] = lista[j + 1]\n",
        "        lista[j + 1] = v\n",
        "  return lista\n",
        "\n",
        "def main():\n",
        "  list1 = [1, 5,88, 4, 67, 492, 499, 34, 45, 58, 1000, 0.1]\n",
        "  #Código para pedir los datos al usuario\n",
        "  #list1 = input(\"Ingrese el arreglo separado por 1 espacio: \")\n",
        "  #list1 = list(list1.split())\n",
        "  bubblesort(list1)\n",
        "  return list1\n",
        "\n",
        "main()"
      ],
      "metadata": {
        "id": "zJnubV_38hUP",
        "colab": {
          "base_uri": "https://localhost:8080/"
        },
        "outputId": "d036e126-3dcd-45ed-cda9-c34b5f6a3bbf"
      },
      "execution_count": 19,
      "outputs": [
        {
          "output_type": "execute_result",
          "data": {
            "text/plain": [
              "[0.1, 1, 4, 5, 34, 45, 58, 67, 88, 492, 499, 1000]"
            ]
          },
          "metadata": {},
          "execution_count": 19
        }
      ]
    },
    {
      "cell_type": "markdown",
      "source": [
        "# **Problema 5**\n",
        "Escriba una funcion en Python que dada una tupla de elementos (numeros o letras) esta se convierta a un string."
      ],
      "metadata": {
        "id": "5mghOTs-q9Kv"
      }
    },
    {
      "cell_type": "code",
      "source": [
        "#tupla = [1,2,3,\"a\",\"b\",\"c\", True, False, 1.00, 3.2]\n",
        "\n",
        "def tup(tupl):\n",
        "  tupN =  \"\"\n",
        "  for val in tupl:\n",
        "      tupN = tupN + str(val)\n",
        "  return tupN"
      ],
      "metadata": {
        "id": "1vQmOmhXl90d"
      },
      "execution_count": null,
      "outputs": []
    },
    {
      "cell_type": "code",
      "source": [
        "tup((1,2,3,\"a\",\"b\",\"c\", True, 1.00, 3.2))"
      ],
      "metadata": {
        "colab": {
          "base_uri": "https://localhost:8080/",
          "height": 35
        },
        "id": "GkdxHyYwUFMP",
        "outputId": "a7ae2c07-26db-4bd4-c03e-def5cad612ce"
      },
      "execution_count": null,
      "outputs": [
        {
          "output_type": "execute_result",
          "data": {
            "application/vnd.google.colaboratory.intrinsic+json": {
              "type": "string"
            },
            "text/plain": [
              "'123abcTrue1.03.2'"
            ]
          },
          "metadata": {},
          "execution_count": 37
        }
      ]
    },
    {
      "cell_type": "markdown",
      "source": [
        "# **Problema 6**\n",
        "Cree un programa en Python que dada una lista de tuplas, elimine las tuplas que estan vacias. Tomar nota del siguiente ejemplo:"
      ],
      "metadata": {
        "id": "j14cLmEz-W1z"
      }
    },
    {
      "cell_type": "code",
      "source": [
        "Lista4 = [(), (), ('X',), ('a', 'b'), ('a', 'b', 'c'),('d')]\n",
        "Lista5 = [val for val in Lista4 if val]\n",
        "print(Lista5)"
      ],
      "metadata": {
        "colab": {
          "base_uri": "https://localhost:8080/"
        },
        "id": "dtrmJhjV-V_D",
        "outputId": "a96450c5-eea3-4232-b162-5f2d4a8287e0"
      },
      "execution_count": null,
      "outputs": [
        {
          "output_type": "stream",
          "name": "stdout",
          "text": [
            "[('X',), ('a', 'b'), ('a', 'b', 'c'), 'd']\n"
          ]
        }
      ]
    },
    {
      "cell_type": "markdown",
      "source": [
        "# **Problema 7**\n",
        "Cree una funcion en Python que dada una tupla de tuplas con numeros, produzca una tupla con el promedio de cada tupla individual."
      ],
      "metadata": {
        "id": "7NVX6xEWjdqY"
      }
    },
    {
      "cell_type": "code",
      "source": [
        "#tupla1 = ((10, 10, 10, 12), (30, 45, 56, 45), (81, 80, 39, 32))\n",
        "def tupla(tupla7):\n",
        "  tupla2 = ((sum(val)/len(val)) for val in tupla7)\n",
        "  return tuple(tupla2)\n",
        "   "
      ],
      "metadata": {
        "id": "FpvmYKjyjj4V"
      },
      "execution_count": 4,
      "outputs": []
    },
    {
      "cell_type": "code",
      "source": [
        "tupla(((10, 10, 10, 12), (30, 45, 56, 45), (81, 80, 39, 32)))"
      ],
      "metadata": {
        "colab": {
          "base_uri": "https://localhost:8080/"
        },
        "id": "0Ja5BkEdWcbC",
        "outputId": "dd4d66cd-130c-40ce-b03c-657eeda950e4"
      },
      "execution_count": 7,
      "outputs": [
        {
          "output_type": "execute_result",
          "data": {
            "text/plain": [
              "(10.5, 44.0, 58.0)"
            ]
          },
          "metadata": {},
          "execution_count": 7
        }
      ]
    }
  ]
}